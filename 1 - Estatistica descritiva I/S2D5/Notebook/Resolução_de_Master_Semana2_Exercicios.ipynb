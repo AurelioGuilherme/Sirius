{
  "cells": [
    {
      "attachments": {},
      "cell_type": "markdown",
      "metadata": {
        "id": "9H7XRk3GlSOe"
      },
      "source": [
        "# Teste de Hipótese para a Média (uma variável)\n",
        "\n",
        "### Atividade 1: Crie um dataframe a partir do banco de dados `basedosdados.br_inep_ideb.municipio` disponível em [Ideb](https://basedosdados.org/dataset/br-inep-ideb?bdm_table=municipio). Selecione apenas as colunas `ano`, `sigla_uf`, `taxa_aprovacao`, `nota_saeb_matematica`, `nota_saeb_lingua_portuguesa` e `ideb`."
      ]
    },
    {
      "cell_type": "code",
      "execution_count": 25,
      "metadata": {
        "id": "-cfY16BHT88h"
      },
      "outputs": [],
      "source": [
        "# import libs\n",
        "import pandas as pd\n",
        "import numpy as np\n",
        "import matplotlib.pyplot as plt\n",
        "import seaborn as sns\n",
        "\n",
        "from scipy.stats import ttest_1samp,ttest_ind, ttest_rel,f_oneway\n",
        "from statsmodels.stats.multicomp import pairwise_tukeyhsd"
      ]
    },
    {
      "cell_type": "code",
      "execution_count": 26,
      "metadata": {
        "id": "daQqvK6NWWTW"
      },
      "outputs": [],
      "source": [
        "# read data\n",
        "df = pd.read_csv('../Data/ideb.csv',\n",
        "            usecols = ['ano',\n",
        "                       'sigla_uf',\n",
        "                       'taxa_aprovacao',\n",
        "                       'nota_saeb_matematica',\n",
        "                       'nota_saeb_lingua_portuguesa',\n",
        "                       'ideb'])"
      ]
    },
    {
      "attachments": {},
      "cell_type": "markdown",
      "metadata": {
        "id": "xsEP0uQwUib_"
      },
      "source": [
        "### Atividade 2: Verifique quantas linhas e colunas possui esse dataframe. Veja também se há dados faltantes."
      ]
    },
    {
      "cell_type": "code",
      "execution_count": 27,
      "metadata": {
        "colab": {
          "base_uri": "https://localhost:8080/"
        },
        "id": "Hbfcm2eZT86g",
        "outputId": "bb9db15e-5e6f-4fa6-8144-7c378474e3e8"
      },
      "outputs": [
        {
          "name": "stdout",
          "output_type": "stream",
          "text": [
            "O dataframe possui 130194 linhas e 6 colunas.\n"
          ]
        }
      ],
      "source": [
        "print(f'O dataframe possui {df.shape[0]} linhas e {df.shape[1]} colunas.')"
      ]
    },
    {
      "cell_type": "code",
      "execution_count": 28,
      "metadata": {
        "colab": {
          "base_uri": "https://localhost:8080/"
        },
        "id": "wdJdcto_XoB6",
        "outputId": "4532ed7f-f4b2-42e8-a105-b2dbb9375c6a"
      },
      "outputs": [
        {
          "data": {
            "text/plain": [
              "ano                                0\n",
              "sigla_uf                           0\n",
              "taxa_aprovacao                 26736\n",
              "nota_saeb_matematica           41849\n",
              "nota_saeb_lingua_portuguesa    41849\n",
              "ideb                           29825\n",
              "dtype: int64"
            ]
          },
          "execution_count": 28,
          "metadata": {},
          "output_type": "execute_result"
        }
      ],
      "source": [
        "# show nan values\n",
        "df.isna().sum()"
      ]
    },
    {
      "cell_type": "code",
      "execution_count": 29,
      "metadata": {
        "id": "mavVEM0yO469"
      },
      "outputs": [],
      "source": [
        "#drop nan values\n",
        "df2 = df.dropna()"
      ]
    },
    {
      "attachments": {},
      "cell_type": "markdown",
      "metadata": {
        "id": "9lzeAO8TUxgE"
      },
      "source": [
        "### Atividade 3: Teste a hipótese de a média da taxa de aprovação para o ano de 2005 ser igual a 78. Considere um nível de confiança de 95%.\n",
        "\n",
        "Descreva, sucintamente, o resultado do teste de hipótese. Não esqueça de incluir as estatísticas encontradas.\n",
        "\n",
        "Dica: crie um DataFrame somente com os valores do ano e da variável de interesse.\n"
      ]
    },
    {
      "cell_type": "code",
      "execution_count": 30,
      "metadata": {
        "id": "R9FM2kK-T82a"
      },
      "outputs": [],
      "source": [
        "#slice dataframe\n",
        "df2005 = df2.query('ano == 2005')[['taxa_aprovacao']]"
      ]
    },
    {
      "cell_type": "code",
      "execution_count": 31,
      "metadata": {
        "colab": {
          "base_uri": "https://localhost:8080/",
          "height": 472
        },
        "id": "A-PZGkaScJ1k",
        "outputId": "3a13c385-b48e-4f66-ca1a-b6f2f6913ddb"
      },
      "outputs": [
        {
          "data": {
            "image/png": "[encoded data removed]",
            "text/plain": [
              "<Figure size 640x480 with 1 Axes>"
            ]
          },
          "metadata": {},
          "output_type": "display_data"
        }
      ],
      "source": [
        "#histplot taxa de aprovacao\n",
        "ax = sns.histplot(data = df2005,\n",
        "                  x = 'taxa_aprovacao',\n",
        "                  stat = 'probability')\n",
        "ax.set(title = \"Histograma taxa de aprovação ano de 2005\")\n",
        "plt.show()"
      ]
    },
    {
      "attachments": {},
      "cell_type": "markdown",
      "metadata": {
        "id": "i1YHtNNTfIsu"
      },
      "source": [
        "$$H_0: \\mu = 78$$\n",
        "$$H_a: \\mu \\neq 78$$"
      ]
    },
    {
      "cell_type": "code",
      "execution_count": 32,
      "metadata": {
        "colab": {
          "base_uri": "https://localhost:8080/"
        },
        "id": "hq0QdfsRd8Yt",
        "outputId": "6fb0ed01-f247-4de5-a475-7198789788e4"
      },
      "outputs": [
        {
          "data": {
            "text/plain": [
              "TtestResult(statistic=20.890080427394643, pvalue=3.1469508067020596e-95, df=12082)"
            ]
          },
          "execution_count": 32,
          "metadata": {},
          "output_type": "execute_result"
        }
      ],
      "source": [
        "ttest_1samp(a = df2005['taxa_aprovacao'], \n",
        "            popmean=78,\n",
        "            alternative = 'two-sided')"
      ]
    },
    {
      "attachments": {},
      "cell_type": "markdown",
      "metadata": {
        "id": "WB1s6kZ4ej2e"
      },
      "source": [
        "* **Devido ao p_value ser inferior à 0.05 rejeita-se a hipótese nula (H0: u = 78) e aceita-se a hipÓtese alternativa (Ha: u != 78)**"
      ]
    },
    {
      "cell_type": "code",
      "execution_count": 33,
      "metadata": {
        "colab": {
          "base_uri": "https://localhost:8080/"
        },
        "id": "JWqQdcoNT80m",
        "outputId": "3cbc5d32-7392-49e8-8e9f-80e986e402c4"
      },
      "outputs": [
        {
          "data": {
            "text/plain": [
              "80.33077050401391"
            ]
          },
          "execution_count": 33,
          "metadata": {},
          "output_type": "execute_result"
        }
      ],
      "source": [
        "np.mean(df2005.taxa_aprovacao)"
      ]
    },
    {
      "attachments": {},
      "cell_type": "markdown",
      "metadata": {
        "id": "J_zjF2d0HUsv"
      },
      "source": [
        "# Teste de Hipótese para a Média (duas variáveis independentes)\n",
        "\n",
        "Agora vamos aplicar um teste de hipótese para a média de duas populações independentes usando dados reais. Desejamos saber se a média para ambas é a mesma."
      ]
    },
    {
      "attachments": {},
      "cell_type": "markdown",
      "metadata": {
        "id": "WMLStXqvHhsW"
      },
      "source": [
        "### Atividade 4: Teste a hipótese de a média do IDEB para os estados do Rio Grande do Sul e do Ceará, no ano de 2019, serem iguais. Considere um nível de confiança de 95%\n",
        "\n",
        "Dica: Primeiro crie um dataframe auxiliar contendo apenas os dados referentes a 2019. Depois selecione dois conjunto de valores de IDEB, um apenas para o estado do Rio Grande do Sul e outro apenas para o estado do Ceará."
      ]
    },
    {
      "cell_type": "code",
      "execution_count": 34,
      "metadata": {
        "id": "tZrLBJOmpS0A"
      },
      "outputs": [],
      "source": [
        "#Slice dataframe\n",
        "dfrs =  df2.query('ano == 2019 & sigla_uf == \"RS\"')\n",
        "dfce =  df2.query('ano == 2019 & sigla_uf == \"CE\"')"
      ]
    },
    {
      "cell_type": "code",
      "execution_count": 35,
      "metadata": {
        "colab": {
          "base_uri": "https://localhost:8080/"
        },
        "id": "tfjY1TkRqOIf",
        "outputId": "fb57a363-7553-4fca-80f4-4d1aa307d350"
      },
      "outputs": [
        {
          "data": {
            "text/plain": [
              "Ttest_indResult(statistic=-3.9541302761146584, pvalue=8.673400907588078e-05)"
            ]
          },
          "execution_count": 35,
          "metadata": {},
          "output_type": "execute_result"
        }
      ],
      "source": [
        "ttest_ind(dfrs['ideb'],dfce['ideb'], equal_var = False)"
      ]
    },
    {
      "attachments": {},
      "cell_type": "markdown",
      "metadata": {
        "id": "4ffQxh3mizik"
      },
      "source": [
        "* **Devido a p_value ser inferior a 0.05 então rejeita-se a hipótese nula H0 (média RS = média CE) e aceita-se a hipótese alternativa Ha (média RS != média CE)**"
      ]
    },
    {
      "attachments": {},
      "cell_type": "markdown",
      "metadata": {
        "id": "8uxllG0pIBeA"
      },
      "source": [
        "### Atividade 5: Com base no resultado do teste anterior, faça um boxplot que lhe ajude a entender melhor os resultados obtidos. Isto é, compare o boxplot do IDEB dos dois estados."
      ]
    },
    {
      "cell_type": "code",
      "execution_count": 36,
      "metadata": {
        "colab": {
          "base_uri": "https://localhost:8080/",
          "height": 472
        },
        "id": "k0rj4wdnHWhy",
        "outputId": "54abccdc-c765-4b2e-c18a-eb423aa863ab"
      },
      "outputs": [
        {
          "data": {
            "image/png": "[encoded data removed]",
            "text/plain": [
              "<Figure size 640x480 with 1 Axes>"
            ]
          },
          "metadata": {},
          "output_type": "display_data"
        }
      ],
      "source": [
        "ax = sns.boxplot(x = pd.concat([dfrs,dfce])['sigla_uf'], \n",
        "                 y = pd.concat([dfrs,dfce])['ideb'],\n",
        "                 showmeans = True,\n",
        "                 meanprops={\"marker\":\"s\",\"markerfacecolor\":\"white\", \"markeredgecolor\":\"blue\"})\n",
        "\n",
        "ax.set(title='Boxplot IDEB')\n",
        "plt.show()"
      ]
    },
    {
      "cell_type": "code",
      "execution_count": 37,
      "metadata": {
        "colab": {
          "base_uri": "https://localhost:8080/"
        },
        "id": "WpFbuFzntuM8",
        "outputId": "a5a63e20-16fe-424c-8006-636f67b376c7"
      },
      "outputs": [
        {
          "name": "stdout",
          "output_type": "stream",
          "text": [
            "No gráfico acima é possível identificar pelos triângulos verdes que as médias são diferentes.\n",
            "A média do IDEB do Rio Grande do Sul é: 6.1588182632050135\n",
            "A média do IDEB do Ceará é: 6.356836461126006\n"
          ]
        }
      ],
      "source": [
        "print('No gráfico acima é possível identificar pelos triângulos verdes que as médias são diferentes.')\n",
        "print(f'A média do IDEB do Rio Grande do Sul é: {np.mean(dfrs.ideb)}\\nA média do IDEB do Ceará é: {np.mean(dfce.ideb)}')"
      ]
    },
    {
      "attachments": {},
      "cell_type": "markdown",
      "metadata": {
        "id": "VTgadqJqIUWt"
      },
      "source": [
        "### Atividade 6: Teste a hipótese de a média do IDEB para os anos de 2005 e 2019 serem iguais. Considere um nível de confiança de 95%\n",
        "\n",
        "Dica: Crie dois dataframes auxiliares e selecione 300 linhas de cada um apenas (sem conter valores faltantes) para realizar o teste."
      ]
    },
    {
      "cell_type": "code",
      "execution_count": 38,
      "metadata": {
        "id": "MDqP4xvRIPOt"
      },
      "outputs": [],
      "source": [
        "df2005 = df2.query('ano ==2005')[:300]\n",
        "df2019 = df2.query('ano ==2019')[:300]"
      ]
    },
    {
      "cell_type": "code",
      "execution_count": 39,
      "metadata": {
        "colab": {
          "base_uri": "https://localhost:8080/"
        },
        "id": "4_t5ZPWYxJ6m",
        "outputId": "e518eda3-07aa-4f13-bed9-7587310aeeae"
      },
      "outputs": [
        {
          "data": {
            "text/plain": [
              "TtestResult(statistic=-163.87518962388705, pvalue=8.329734374233758e-295, df=299)"
            ]
          },
          "execution_count": 39,
          "metadata": {},
          "output_type": "execute_result"
        }
      ],
      "source": [
        "ttest_rel(df2005['ideb'],df2019['ideb'])"
      ]
    },
    {
      "attachments": {},
      "cell_type": "markdown",
      "metadata": {
        "id": "gK7KLADsfqx8"
      },
      "source": [
        "* **Devido ao p_value ser inferior a 0.05 rejeit-se a hipótese nula H0(IDEB 2019 = IDEB 2005) e aceita-se a hipótese alternativa H1 (IDEB2019 != IDEB 2005)**\n"
      ]
    },
    {
      "attachments": {},
      "cell_type": "markdown",
      "metadata": {
        "id": "NtEjca_OIc4w"
      },
      "source": [
        "### Atividade 7: Com base no resultado do teste anterior, faça um boxplot que lhe ajude a entender melhor os resultados obtidos. Isto é, compare o boxplot do IDEB para os dois anos."
      ]
    },
    {
      "cell_type": "code",
      "execution_count": 40,
      "metadata": {
        "id": "dfqr763txihO"
      },
      "outputs": [],
      "source": [
        "# create var to simplify plot\n",
        "df2005['alt'] = 2005\n",
        "df2019['alt'] = 2019"
      ]
    },
    {
      "cell_type": "code",
      "execution_count": 41,
      "metadata": {
        "colab": {
          "base_uri": "https://localhost:8080/",
          "height": 472
        },
        "id": "2k4C6scGIPKF",
        "outputId": "69209d8a-68ad-458c-f770-22ff8504b9bd"
      },
      "outputs": [
        {
          "data": {
            "image/png": "[encoded data removed]",
            "text/plain": [
              "<Figure size 640x480 with 1 Axes>"
            ]
          },
          "metadata": {},
          "output_type": "display_data"
        }
      ],
      "source": [
        "ax = sns.boxplot(x = pd.concat([df2005,df2019])['alt'], \n",
        "                 y = pd.concat([df2005,df2019])['ideb'],\n",
        "                 showmeans = True,\n",
        "                 meanprops={\"marker\":\"s\",\"markerfacecolor\":\"white\", \"markeredgecolor\":\"blue\"})\n",
        "\n",
        "ax.set(title='Boxplot IDEB',\n",
        "       xlabel = 'Ano')\n",
        "plt.show()"
      ]
    },
    {
      "attachments": {},
      "cell_type": "markdown",
      "metadata": {
        "id": "cK5l5cHcgaAL"
      },
      "source": [
        "* **No gráfico podemos analisar que a média do IDEB dos anos de 2005 e 2019 são distanstes**"
      ]
    },
    {
      "attachments": {},
      "cell_type": "markdown",
      "metadata": {
        "id": "u7Zs62g3mY4E"
      },
      "source": [
        "# Análise de Variância (ANOVA) One-Way\n",
        "\n",
        "### Atividade 8: Vamos comparar a média do IDEB para os três estados da região sul, em 2019, para ver se estas médias podem ser consideradas iguais. Considere um nível de confiança de 95%.\n",
        "\n",
        "Dica: Crie três dataframes auxiliares, um para cada estado."
      ]
    },
    {
      "cell_type": "code",
      "execution_count": 42,
      "metadata": {
        "id": "GUb-Ng3flRY7"
      },
      "outputs": [],
      "source": [
        "dfrs = df2.query('ano == 2019 & sigla_uf == \"RS\"')\n",
        "dfpr = df2.query('ano == 2019 & sigla_uf == \"PR\"')\n",
        "dfsc = df2.query('ano == 2019 & sigla_uf == \"SC\"')"
      ]
    },
    {
      "cell_type": "code",
      "execution_count": 43,
      "metadata": {
        "colab": {
          "base_uri": "https://localhost:8080/"
        },
        "id": "JjFxaMVQVqwz",
        "outputId": "cf1c1eb6-472d-4c28-b124-f0fb8aa2f8ac"
      },
      "outputs": [
        {
          "data": {
            "text/plain": [
              "F_onewayResult(statistic=27.712354138245196, pvalue=1.2331589284254783e-12)"
            ]
          },
          "execution_count": 43,
          "metadata": {},
          "output_type": "execute_result"
        }
      ],
      "source": [
        "f_oneway(dfrs.ideb,\n",
        "         dfpr.ideb,\n",
        "         dfsc.ideb)"
      ]
    },
    {
      "attachments": {},
      "cell_type": "markdown",
      "metadata": {
        "id": "zvZc_c0ancff"
      },
      "source": [
        "* **Devido ao p_value ser inferior 0.05 rejeita-se hipótese nula H0 (média IDEB para os três estados da região sul serem iguais) e aceita-se a hipótese alternativa Ha (média IDEB para os três estados da região sul são ao menos uma diferente)**"
      ]
    },
    {
      "attachments": {},
      "cell_type": "markdown",
      "metadata": {
        "id": "5fLIsXvgV5Z9"
      },
      "source": [
        "### Atividade 9: Faça um boxplot para entender melhor o que está acontecendo com os valores do IDEB para os três estados."
      ]
    },
    {
      "cell_type": "code",
      "execution_count": 44,
      "metadata": {
        "colab": {
          "base_uri": "https://localhost:8080/",
          "height": 472
        },
        "id": "XOUnpMm6Vqsm",
        "outputId": "c7128fdc-771c-4a39-edcc-fbd490b0ded8"
      },
      "outputs": [
        {
          "data": {
            "image/png": "[encoded data removed]",
            "text/plain": [
              "<Figure size 640x480 with 1 Axes>"
            ]
          },
          "metadata": {},
          "output_type": "display_data"
        }
      ],
      "source": [
        "ax = sns.boxplot(x = pd.concat([dfrs,dfpr,dfsc]).sigla_uf,\n",
        "                 y = pd.concat([dfrs,dfpr,dfsc]).ideb,\n",
        "                 showmeans = True,\n",
        "                 meanprops={\"marker\":\"s\",\"markerfacecolor\":\"white\", \"markeredgecolor\":\"blue\"})\n",
        "ax.set(title = 'Boxplot Ideb');"
      ]
    },
    {
      "attachments": {},
      "cell_type": "markdown",
      "metadata": {
        "id": "P_R2G4mIpRQ-"
      },
      "source": [
        "* **Gráficamente as médias dos estados possuem valores próximos, mas não iguais**"
      ]
    },
    {
      "attachments": {},
      "cell_type": "markdown",
      "metadata": {
        "id": "YY9W9g4YWAwO"
      },
      "source": [
        "### Atividade 10: Faça um teste Post-hoc para verificar se de fato é o estado de Santa Catarina tem média diferente dos demais estados."
      ]
    },
    {
      "cell_type": "code",
      "execution_count": 45,
      "metadata": {
        "colab": {
          "base_uri": "https://localhost:8080/"
        },
        "id": "B4pdsnF-7miA",
        "outputId": "ec4d69bc-105f-4c55-92a8-e0ffd5e2cb23"
      },
      "outputs": [
        {
          "name": "stdout",
          "output_type": "stream",
          "text": [
            "Multiple Comparison of Means - Tukey HSD, FWER=0.05 \n",
            "====================================================\n",
            "group1 group2 meandiff p-adj   lower   upper  reject\n",
            "----------------------------------------------------\n",
            "    PR     RS  -0.2294    0.0  -0.302 -0.1568   True\n",
            "    PR     SC  -0.1123 0.0035 -0.1936  -0.031   True\n",
            "    RS     SC   0.1171 0.0009  0.0414  0.1928   True\n",
            "----------------------------------------------------\n"
          ]
        }
      ],
      "source": [
        "print(pairwise_tukeyhsd(endog = pd.concat([dfrs,dfpr,dfsc]).ideb,\n",
        "                        groups = pd.concat([dfrs,dfpr,dfsc]).sigla_uf,\n",
        "                        alpha = 0.05))"
      ]
    },
    {
      "attachments": {},
      "cell_type": "markdown",
      "metadata": {
        "id": "yZh-gcdgptAZ"
      },
      "source": [
        "* **Todos são diferentes entre si pois o valor do reject apresentado é verdadeiro**"
      ]
    }
  ],
  "metadata": {
    "colab": {
      "provenance": []
    },
    "kernelspec": {
      "display_name": "Python 3",
      "name": "python3"
    },
    "language_info": {
      "codemirror_mode": {
        "name": "ipython",
        "version": 3
      },
      "file_extension": ".py",
      "mimetype": "text/x-python",
      "name": "python",
      "nbconvert_exporter": "python",
      "pygments_lexer": "ipython3",
      "version": "3.10.9"
    }
  },
  "nbformat": 4,
  "nbformat_minor": 0
}
